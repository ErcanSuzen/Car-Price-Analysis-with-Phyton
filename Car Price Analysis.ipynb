{
 "cells": [
  {
   "cell_type": "markdown",
   "id": "c7aaa235",
   "metadata": {},
   "source": [
    "# Car Price Analysis\n",
    "\n",
    "\n",
    "DATA SET INCLUDE OVER 46K CAR DATAS FROM GERMANY , REGISTRATION FROM 2011 TO 2022\n",
    "\n",
    "## Importing data set\n",
    "## Data Wrangling\n",
    "## Exploratory Data Analyses\n",
    "## Model Development\n",
    "## Model Evaluation and Refinement\n",
    "\n"
   ]
  },
  {
   "cell_type": "code",
   "execution_count": 136,
   "id": "28ae9374",
   "metadata": {},
   "outputs": [],
   "source": [
    "import pandas as pd\n",
    "import numpy as np\n",
    "import seaborn as sns\n",
    "%matplotlib inline\n",
    "import matplotlib as mpl\n",
    "import matplotlib.pyplot as plt"
   ]
  },
  {
   "cell_type": "code",
   "execution_count": 137,
   "id": "7dc25644",
   "metadata": {},
   "outputs": [],
   "source": [
    "path=r\"C:\\Users\\ERCAN\\Desktop\\PORTFOLIO\\CAR PRICE\\dataset_germany-cars-zenrows.csv\""
   ]
  },
  {
   "cell_type": "code",
   "execution_count": 138,
   "id": "839cac4f",
   "metadata": {},
   "outputs": [],
   "source": [
    "df=pd.read_csv(path)"
   ]
  },
  {
   "cell_type": "code",
   "execution_count": 139,
   "id": "795d3af3",
   "metadata": {
    "scrolled": true
   },
   "outputs": [
    {
     "data": {
      "text/html": [
       "<div>\n",
       "<style scoped>\n",
       "    .dataframe tbody tr th:only-of-type {\n",
       "        vertical-align: middle;\n",
       "    }\n",
       "\n",
       "    .dataframe tbody tr th {\n",
       "        vertical-align: top;\n",
       "    }\n",
       "\n",
       "    .dataframe thead th {\n",
       "        text-align: right;\n",
       "    }\n",
       "</style>\n",
       "<table border=\"1\" class=\"dataframe\">\n",
       "  <thead>\n",
       "    <tr style=\"text-align: right;\">\n",
       "      <th></th>\n",
       "      <th>mileage</th>\n",
       "      <th>make</th>\n",
       "      <th>model</th>\n",
       "      <th>fuel</th>\n",
       "      <th>gear</th>\n",
       "      <th>offerType</th>\n",
       "      <th>price</th>\n",
       "      <th>hp</th>\n",
       "      <th>year</th>\n",
       "    </tr>\n",
       "  </thead>\n",
       "  <tbody>\n",
       "    <tr>\n",
       "      <th>0</th>\n",
       "      <td>235000</td>\n",
       "      <td>BMW</td>\n",
       "      <td>316</td>\n",
       "      <td>Diesel</td>\n",
       "      <td>Manual</td>\n",
       "      <td>Used</td>\n",
       "      <td>6800</td>\n",
       "      <td>116.0</td>\n",
       "      <td>2011</td>\n",
       "    </tr>\n",
       "    <tr>\n",
       "      <th>1</th>\n",
       "      <td>92800</td>\n",
       "      <td>Volkswagen</td>\n",
       "      <td>Golf</td>\n",
       "      <td>Gasoline</td>\n",
       "      <td>Manual</td>\n",
       "      <td>Used</td>\n",
       "      <td>6877</td>\n",
       "      <td>122.0</td>\n",
       "      <td>2011</td>\n",
       "    </tr>\n",
       "    <tr>\n",
       "      <th>2</th>\n",
       "      <td>149300</td>\n",
       "      <td>SEAT</td>\n",
       "      <td>Exeo</td>\n",
       "      <td>Gasoline</td>\n",
       "      <td>Manual</td>\n",
       "      <td>Used</td>\n",
       "      <td>6900</td>\n",
       "      <td>160.0</td>\n",
       "      <td>2011</td>\n",
       "    </tr>\n",
       "    <tr>\n",
       "      <th>3</th>\n",
       "      <td>96200</td>\n",
       "      <td>Renault</td>\n",
       "      <td>Megane</td>\n",
       "      <td>Gasoline</td>\n",
       "      <td>Manual</td>\n",
       "      <td>Used</td>\n",
       "      <td>6950</td>\n",
       "      <td>110.0</td>\n",
       "      <td>2011</td>\n",
       "    </tr>\n",
       "    <tr>\n",
       "      <th>4</th>\n",
       "      <td>156000</td>\n",
       "      <td>Peugeot</td>\n",
       "      <td>308</td>\n",
       "      <td>Gasoline</td>\n",
       "      <td>Manual</td>\n",
       "      <td>Used</td>\n",
       "      <td>6950</td>\n",
       "      <td>156.0</td>\n",
       "      <td>2011</td>\n",
       "    </tr>\n",
       "    <tr>\n",
       "      <th>5</th>\n",
       "      <td>147000</td>\n",
       "      <td>Toyota</td>\n",
       "      <td>Auris</td>\n",
       "      <td>Electric/Gasoline</td>\n",
       "      <td>Automatic</td>\n",
       "      <td>Used</td>\n",
       "      <td>6950</td>\n",
       "      <td>99.0</td>\n",
       "      <td>2011</td>\n",
       "    </tr>\n",
       "    <tr>\n",
       "      <th>6</th>\n",
       "      <td>91894</td>\n",
       "      <td>Renault</td>\n",
       "      <td>Scenic</td>\n",
       "      <td>Diesel</td>\n",
       "      <td>Manual</td>\n",
       "      <td>Used</td>\n",
       "      <td>6970</td>\n",
       "      <td>131.0</td>\n",
       "      <td>2011</td>\n",
       "    </tr>\n",
       "    <tr>\n",
       "      <th>7</th>\n",
       "      <td>127500</td>\n",
       "      <td>Opel</td>\n",
       "      <td>Zafira</td>\n",
       "      <td>Gasoline</td>\n",
       "      <td>Manual</td>\n",
       "      <td>Used</td>\n",
       "      <td>6972</td>\n",
       "      <td>116.0</td>\n",
       "      <td>2011</td>\n",
       "    </tr>\n",
       "    <tr>\n",
       "      <th>8</th>\n",
       "      <td>115000</td>\n",
       "      <td>Mazda</td>\n",
       "      <td>3</td>\n",
       "      <td>Gasoline</td>\n",
       "      <td>Automatic</td>\n",
       "      <td>Used</td>\n",
       "      <td>6980</td>\n",
       "      <td>150.0</td>\n",
       "      <td>2011</td>\n",
       "    </tr>\n",
       "    <tr>\n",
       "      <th>9</th>\n",
       "      <td>104</td>\n",
       "      <td>Ford</td>\n",
       "      <td>Transit</td>\n",
       "      <td>Diesel</td>\n",
       "      <td>Manual</td>\n",
       "      <td>Used</td>\n",
       "      <td>6990</td>\n",
       "      <td>86.0</td>\n",
       "      <td>2011</td>\n",
       "    </tr>\n",
       "  </tbody>\n",
       "</table>\n",
       "</div>"
      ],
      "text/plain": [
       "   mileage        make    model               fuel       gear offerType  \\\n",
       "0   235000         BMW      316             Diesel     Manual      Used   \n",
       "1    92800  Volkswagen     Golf           Gasoline     Manual      Used   \n",
       "2   149300        SEAT     Exeo           Gasoline     Manual      Used   \n",
       "3    96200     Renault   Megane           Gasoline     Manual      Used   \n",
       "4   156000     Peugeot      308           Gasoline     Manual      Used   \n",
       "5   147000      Toyota    Auris  Electric/Gasoline  Automatic      Used   \n",
       "6    91894     Renault   Scenic             Diesel     Manual      Used   \n",
       "7   127500        Opel   Zafira           Gasoline     Manual      Used   \n",
       "8   115000       Mazda        3           Gasoline  Automatic      Used   \n",
       "9      104        Ford  Transit             Diesel     Manual      Used   \n",
       "\n",
       "   price     hp  year  \n",
       "0   6800  116.0  2011  \n",
       "1   6877  122.0  2011  \n",
       "2   6900  160.0  2011  \n",
       "3   6950  110.0  2011  \n",
       "4   6950  156.0  2011  \n",
       "5   6950   99.0  2011  \n",
       "6   6970  131.0  2011  \n",
       "7   6972  116.0  2011  \n",
       "8   6980  150.0  2011  \n",
       "9   6990   86.0  2011  "
      ]
     },
     "execution_count": 139,
     "metadata": {},
     "output_type": "execute_result"
    }
   ],
   "source": [
    "df.head(10)"
   ]
  },
  {
   "cell_type": "code",
   "execution_count": 140,
   "id": "c7119bc1",
   "metadata": {},
   "outputs": [
    {
     "name": "stdout",
     "output_type": "stream",
     "text": [
      "<class 'pandas.core.frame.DataFrame'>\n",
      "RangeIndex: 46405 entries, 0 to 46404\n",
      "Data columns (total 9 columns):\n",
      " #   Column     Non-Null Count  Dtype  \n",
      "---  ------     --------------  -----  \n",
      " 0   mileage    46405 non-null  int64  \n",
      " 1   make       46405 non-null  object \n",
      " 2   model      46262 non-null  object \n",
      " 3   fuel       46405 non-null  object \n",
      " 4   gear       46223 non-null  object \n",
      " 5   offerType  46405 non-null  object \n",
      " 6   price      46405 non-null  int64  \n",
      " 7   hp         46376 non-null  float64\n",
      " 8   year       46405 non-null  int64  \n",
      "dtypes: float64(1), int64(3), object(5)\n",
      "memory usage: 3.2+ MB\n"
     ]
    }
   ],
   "source": [
    "df.info()"
   ]
  },
  {
   "cell_type": "markdown",
   "id": "a4189930",
   "metadata": {},
   "source": [
    "## Drop nulls"
   ]
  },
  {
   "cell_type": "code",
   "execution_count": 141,
   "id": "5ea39b02",
   "metadata": {},
   "outputs": [
    {
     "data": {
      "text/plain": [
       "mileage      46071\n",
       "make         46071\n",
       "model        46071\n",
       "fuel         46071\n",
       "gear         46071\n",
       "offerType    46071\n",
       "price        46071\n",
       "hp           46071\n",
       "year         46071\n",
       "dtype: int64"
      ]
     },
     "execution_count": 141,
     "metadata": {},
     "output_type": "execute_result"
    }
   ],
   "source": [
    "cars_data=df.dropna()\n",
    "cars_data.count()"
   ]
  },
  {
   "cell_type": "markdown",
   "id": "e162d531",
   "metadata": {},
   "source": [
    "## Check the typo of datas"
   ]
  },
  {
   "cell_type": "code",
   "execution_count": 142,
   "id": "226255f1",
   "metadata": {},
   "outputs": [
    {
     "data": {
      "text/plain": [
       "array(['Diesel', 'Gasoline', 'Electric/Gasoline', '-/- (Fuel)',\n",
       "       'Electric', 'Electric/Diesel', 'CNG', 'LPG', 'Others', 'Hydrogen',\n",
       "       'Ethanol'], dtype=object)"
      ]
     },
     "execution_count": 142,
     "metadata": {},
     "output_type": "execute_result"
    }
   ],
   "source": [
    "cars_data[\"fuel\"].unique()"
   ]
  },
  {
   "cell_type": "code",
   "execution_count": 143,
   "id": "7ede2acf",
   "metadata": {},
   "outputs": [
    {
     "data": {
      "text/plain": [
       "array(['Manual', 'Automatic', 'Semi-automatic'], dtype=object)"
      ]
     },
     "execution_count": 143,
     "metadata": {},
     "output_type": "execute_result"
    }
   ],
   "source": [
    "cars_data[\"gear\"].unique()"
   ]
  },
  {
   "cell_type": "code",
   "execution_count": 144,
   "id": "e8ef75fe",
   "metadata": {},
   "outputs": [
    {
     "data": {
      "text/plain": [
       "array(['Used', 'Demonstration', \"Employee's car\", 'Pre-registered', 'New'],\n",
       "      dtype=object)"
      ]
     },
     "execution_count": 144,
     "metadata": {},
     "output_type": "execute_result"
    }
   ],
   "source": [
    "cars_data[\"offerType\"].unique()"
   ]
  },
  {
   "cell_type": "code",
   "execution_count": 145,
   "id": "c4ab641b",
   "metadata": {},
   "outputs": [
    {
     "data": {
      "text/plain": [
       "array(['BMW', 'Volkswagen', 'SEAT', 'Renault', 'Peugeot', 'Toyota',\n",
       "       'Opel', 'Mazda', 'Ford', 'Mercedes-Benz', 'Chevrolet', 'Audi',\n",
       "       'Fiat', 'Kia', 'Dacia', 'MINI', 'Hyundai', 'Skoda', 'Citroen',\n",
       "       'Infiniti', 'Suzuki', 'SsangYong', 'smart', 'Cupra', 'Volvo',\n",
       "       'Jaguar', 'Porsche', 'Nissan', 'Honda', 'Mitsubishi', 'Lexus',\n",
       "       'Jeep', 'Maserati', 'Bentley', 'Land', 'Alfa', 'Subaru', 'Dodge',\n",
       "       'Microcar', 'Lamborghini', 'Lada', 'Tesla', 'Chrysler', 'McLaren',\n",
       "       'Aston', 'Rolls-Royce', 'Lancia', 'Abarth', 'DS', 'Daihatsu',\n",
       "       'Ligier', 'Ferrari', 'Aixam', 'Zhidou', 'Morgan', 'Maybach', 'RAM',\n",
       "       'Alpina', 'Polestar', 'Brilliance', 'Piaggio', 'FISKER', 'Others',\n",
       "       'Cadillac', 'Iveco', 'Isuzu', 'Corvette', 'Baic', 'DFSK',\n",
       "       'Estrima', 'Alpine'], dtype=object)"
      ]
     },
     "execution_count": 145,
     "metadata": {},
     "output_type": "execute_result"
    }
   ],
   "source": [
    "cars_data[\"make\"].unique()"
   ]
  },
  {
   "cell_type": "markdown",
   "id": "058588bd",
   "metadata": {},
   "source": [
    "### Define the data dominant car brands and type\n",
    "\n",
    "Volkswagen, Opel and Ford seems dominant brands\n"
   ]
  },
  {
   "cell_type": "code",
   "execution_count": 146,
   "id": "3971b0c6",
   "metadata": {},
   "outputs": [
    {
     "data": {
      "text/plain": [
       "Volkswagen       6907\n",
       "Opel             4789\n",
       "Ford             4410\n",
       "Skoda            2874\n",
       "Renault          2792\n",
       "Audi             2681\n",
       "BMW              2392\n",
       "Mercedes-Benz    2341\n",
       "SEAT             1922\n",
       "Hyundai          1880\n",
       "Name: make, dtype: int64"
      ]
     },
     "execution_count": 146,
     "metadata": {},
     "output_type": "execute_result"
    }
   ],
   "source": [
    "cars_data[\"make\"].value_counts().head(10)"
   ]
  },
  {
   "cell_type": "code",
   "execution_count": 147,
   "id": "7e90a378",
   "metadata": {},
   "outputs": [
    {
     "data": {
      "text/plain": [
       "Gasoline             28720\n",
       "Diesel               15178\n",
       "Electric/Gasoline     1146\n",
       "Electric               661\n",
       "LPG                    125\n",
       "CNG                    116\n",
       "Electric/Diesel         53\n",
       "Others                  47\n",
       "-/- (Fuel)              22\n",
       "Ethanol                  2\n",
       "Hydrogen                 1\n",
       "Name: fuel, dtype: int64"
      ]
     },
     "execution_count": 147,
     "metadata": {},
     "output_type": "execute_result"
    }
   ],
   "source": [
    "cars_data[\"fuel\"].value_counts()"
   ]
  },
  {
   "cell_type": "code",
   "execution_count": 148,
   "id": "c31edbe3",
   "metadata": {},
   "outputs": [
    {
     "data": {
      "text/plain": [
       "Golf       1489\n",
       "Corsa      1485\n",
       "Fiesta     1273\n",
       "Astra      1190\n",
       "Focus       985\n",
       "up!         943\n",
       "Fabia       916\n",
       "Polo        893\n",
       "forTwo      710\n",
       "Octavia     665\n",
       "Name: model, dtype: int64"
      ]
     },
     "execution_count": 148,
     "metadata": {},
     "output_type": "execute_result"
    }
   ],
   "source": [
    "cars_data[\"model\"].value_counts().head(10)"
   ]
  },
  {
   "cell_type": "code",
   "execution_count": 149,
   "id": "e363ce5f",
   "metadata": {},
   "outputs": [
    {
     "data": {
      "text/plain": [
       "Manual            30309\n",
       "Automatic         15706\n",
       "Semi-automatic       56\n",
       "Name: gear, dtype: int64"
      ]
     },
     "execution_count": 149,
     "metadata": {},
     "output_type": "execute_result"
    }
   ],
   "source": [
    "cars_data[\"gear\"].value_counts()"
   ]
  },
  {
   "cell_type": "code",
   "execution_count": 150,
   "id": "a5db8c58",
   "metadata": {},
   "outputs": [
    {
     "data": {
      "text/plain": [
       "Used              39822\n",
       "Pre-registered     2768\n",
       "Demonstration      2351\n",
       "Employee's car     1117\n",
       "New                  13\n",
       "Name: offerType, dtype: int64"
      ]
     },
     "execution_count": 150,
     "metadata": {},
     "output_type": "execute_result"
    }
   ],
   "source": [
    "cars_data[\"offerType\"].value_counts()"
   ]
  },
  {
   "cell_type": "code",
   "execution_count": 151,
   "id": "507bf63d",
   "metadata": {},
   "outputs": [
    {
     "data": {
      "text/html": [
       "<div>\n",
       "<style scoped>\n",
       "    .dataframe tbody tr th:only-of-type {\n",
       "        vertical-align: middle;\n",
       "    }\n",
       "\n",
       "    .dataframe tbody tr th {\n",
       "        vertical-align: top;\n",
       "    }\n",
       "\n",
       "    .dataframe thead th {\n",
       "        text-align: right;\n",
       "    }\n",
       "</style>\n",
       "<table border=\"1\" class=\"dataframe\">\n",
       "  <thead>\n",
       "    <tr style=\"text-align: right;\">\n",
       "      <th></th>\n",
       "      <th>mileage</th>\n",
       "      <th>price</th>\n",
       "      <th>hp</th>\n",
       "      <th>year</th>\n",
       "    </tr>\n",
       "  </thead>\n",
       "  <tbody>\n",
       "    <tr>\n",
       "      <th>count</th>\n",
       "      <td>4.607100e+04</td>\n",
       "      <td>4.607100e+04</td>\n",
       "      <td>46071.000000</td>\n",
       "      <td>46071.000000</td>\n",
       "    </tr>\n",
       "    <tr>\n",
       "      <th>mean</th>\n",
       "      <td>7.123314e+04</td>\n",
       "      <td>1.656312e+04</td>\n",
       "      <td>132.992663</td>\n",
       "      <td>2016.012155</td>\n",
       "    </tr>\n",
       "    <tr>\n",
       "      <th>std</th>\n",
       "      <td>6.245413e+04</td>\n",
       "      <td>1.927960e+04</td>\n",
       "      <td>75.074689</td>\n",
       "      <td>3.155555</td>\n",
       "    </tr>\n",
       "    <tr>\n",
       "      <th>min</th>\n",
       "      <td>0.000000e+00</td>\n",
       "      <td>1.100000e+03</td>\n",
       "      <td>1.000000</td>\n",
       "      <td>2011.000000</td>\n",
       "    </tr>\n",
       "    <tr>\n",
       "      <th>25%</th>\n",
       "      <td>1.990000e+04</td>\n",
       "      <td>7.490000e+03</td>\n",
       "      <td>86.000000</td>\n",
       "      <td>2013.000000</td>\n",
       "    </tr>\n",
       "    <tr>\n",
       "      <th>50%</th>\n",
       "      <td>6.000000e+04</td>\n",
       "      <td>1.100000e+04</td>\n",
       "      <td>116.000000</td>\n",
       "      <td>2016.000000</td>\n",
       "    </tr>\n",
       "    <tr>\n",
       "      <th>75%</th>\n",
       "      <td>1.050000e+05</td>\n",
       "      <td>1.949000e+04</td>\n",
       "      <td>150.000000</td>\n",
       "      <td>2019.000000</td>\n",
       "    </tr>\n",
       "    <tr>\n",
       "      <th>max</th>\n",
       "      <td>1.111111e+06</td>\n",
       "      <td>1.199900e+06</td>\n",
       "      <td>850.000000</td>\n",
       "      <td>2021.000000</td>\n",
       "    </tr>\n",
       "  </tbody>\n",
       "</table>\n",
       "</div>"
      ],
      "text/plain": [
       "            mileage         price            hp          year\n",
       "count  4.607100e+04  4.607100e+04  46071.000000  46071.000000\n",
       "mean   7.123314e+04  1.656312e+04    132.992663   2016.012155\n",
       "std    6.245413e+04  1.927960e+04     75.074689      3.155555\n",
       "min    0.000000e+00  1.100000e+03      1.000000   2011.000000\n",
       "25%    1.990000e+04  7.490000e+03     86.000000   2013.000000\n",
       "50%    6.000000e+04  1.100000e+04    116.000000   2016.000000\n",
       "75%    1.050000e+05  1.949000e+04    150.000000   2019.000000\n",
       "max    1.111111e+06  1.199900e+06    850.000000   2021.000000"
      ]
     },
     "execution_count": 151,
     "metadata": {},
     "output_type": "execute_result"
    }
   ],
   "source": [
    "cars_data.describe()"
   ]
  },
  {
   "cell_type": "markdown",
   "id": "55b3320b",
   "metadata": {},
   "source": [
    "### There are big differences between max and mean values of \"price\" and \"hp\" datas. Find and remove all prices over the 99.5% percentile."
   ]
  },
  {
   "cell_type": "code",
   "execution_count": 152,
   "id": "8608deb9",
   "metadata": {},
   "outputs": [],
   "source": [
    "cars_data=cars_data[cars_data[\"price\"]<cars_data[\"price\"].quantile(0.995)].reset_index(drop=True)"
   ]
  },
  {
   "cell_type": "code",
   "execution_count": 153,
   "id": "2d44dde4",
   "metadata": {},
   "outputs": [],
   "source": [
    "cars_data=cars_data[cars_data[\"hp\"]<cars_data[\"hp\"].quantile(0.995)].reset_index(drop=True)"
   ]
  },
  {
   "cell_type": "markdown",
   "id": "f3f78f4b",
   "metadata": {},
   "source": [
    "### Analysis of Non Numerical parameters effect on prices"
   ]
  },
  {
   "cell_type": "code",
   "execution_count": 154,
   "id": "4cfee5a6",
   "metadata": {},
   "outputs": [
    {
     "data": {
      "text/plain": [
       "<AxesSubplot:xlabel='gear', ylabel='price'>"
      ]
     },
     "execution_count": 154,
     "metadata": {},
     "output_type": "execute_result"
    },
    {
     "data": {
      "image/png": "[encoded data removed]",
      "text/plain": [
       "<Figure size 432x288 with 1 Axes>"
      ]
     },
     "metadata": {
      "needs_background": "light"
     },
     "output_type": "display_data"
    }
   ],
   "source": [
    "sns.boxplot(x=\"gear\", y=\"price\", data=cars_data)"
   ]
  },
  {
   "cell_type": "code",
   "execution_count": 155,
   "id": "1df9ab0a",
   "metadata": {},
   "outputs": [
    {
     "data": {
      "image/png": "[encoded data removed]",
      "text/plain": [
       "<Figure size 936x432 with 1 Axes>"
      ]
     },
     "metadata": {
      "needs_background": "light"
     },
     "output_type": "display_data"
    }
   ],
   "source": [
    "sns.boxplot(x=\"fuel\", y=\"price\", data= cars_data )\n",
    "plt.gcf().set_size_inches(13, 6)"
   ]
  },
  {
   "cell_type": "code",
   "execution_count": 156,
   "id": "04cceced",
   "metadata": {},
   "outputs": [
    {
     "data": {
      "text/html": [
       "<div>\n",
       "<style scoped>\n",
       "    .dataframe tbody tr th:only-of-type {\n",
       "        vertical-align: middle;\n",
       "    }\n",
       "\n",
       "    .dataframe tbody tr th {\n",
       "        vertical-align: top;\n",
       "    }\n",
       "\n",
       "    .dataframe thead th {\n",
       "        text-align: right;\n",
       "    }\n",
       "</style>\n",
       "<table border=\"1\" class=\"dataframe\">\n",
       "  <thead>\n",
       "    <tr style=\"text-align: right;\">\n",
       "      <th></th>\n",
       "      <th>mileage</th>\n",
       "      <th>price</th>\n",
       "      <th>hp</th>\n",
       "      <th>year</th>\n",
       "    </tr>\n",
       "  </thead>\n",
       "  <tbody>\n",
       "    <tr>\n",
       "      <th>mileage</th>\n",
       "      <td>1.000000</td>\n",
       "      <td>-0.395162</td>\n",
       "      <td>0.023868</td>\n",
       "      <td>-0.676923</td>\n",
       "    </tr>\n",
       "    <tr>\n",
       "      <th>price</th>\n",
       "      <td>-0.395162</td>\n",
       "      <td>1.000000</td>\n",
       "      <td>0.760121</td>\n",
       "      <td>0.557675</td>\n",
       "    </tr>\n",
       "    <tr>\n",
       "      <th>hp</th>\n",
       "      <td>0.023868</td>\n",
       "      <td>0.760121</td>\n",
       "      <td>1.000000</td>\n",
       "      <td>0.159353</td>\n",
       "    </tr>\n",
       "    <tr>\n",
       "      <th>year</th>\n",
       "      <td>-0.676923</td>\n",
       "      <td>0.557675</td>\n",
       "      <td>0.159353</td>\n",
       "      <td>1.000000</td>\n",
       "    </tr>\n",
       "  </tbody>\n",
       "</table>\n",
       "</div>"
      ],
      "text/plain": [
       "          mileage     price        hp      year\n",
       "mileage  1.000000 -0.395162  0.023868 -0.676923\n",
       "price   -0.395162  1.000000  0.760121  0.557675\n",
       "hp       0.023868  0.760121  1.000000  0.159353\n",
       "year    -0.676923  0.557675  0.159353  1.000000"
      ]
     },
     "execution_count": 156,
     "metadata": {},
     "output_type": "execute_result"
    }
   ],
   "source": [
    "cars_data.corr()"
   ]
  },
  {
   "cell_type": "markdown",
   "id": "32338f92",
   "metadata": {},
   "source": [
    "### We should make Volkswagen car price model according to this datasets"
   ]
  },
  {
   "cell_type": "code",
   "execution_count": 163,
   "id": "570ede57",
   "metadata": {},
   "outputs": [
    {
     "data": {
      "text/html": [
       "<div>\n",
       "<style scoped>\n",
       "    .dataframe tbody tr th:only-of-type {\n",
       "        vertical-align: middle;\n",
       "    }\n",
       "\n",
       "    .dataframe tbody tr th {\n",
       "        vertical-align: top;\n",
       "    }\n",
       "\n",
       "    .dataframe thead th {\n",
       "        text-align: right;\n",
       "    }\n",
       "</style>\n",
       "<table border=\"1\" class=\"dataframe\">\n",
       "  <thead>\n",
       "    <tr style=\"text-align: right;\">\n",
       "      <th></th>\n",
       "      <th>mileage</th>\n",
       "      <th>make</th>\n",
       "      <th>model</th>\n",
       "      <th>fuel</th>\n",
       "      <th>gear</th>\n",
       "      <th>offerType</th>\n",
       "      <th>price</th>\n",
       "      <th>hp</th>\n",
       "      <th>year</th>\n",
       "    </tr>\n",
       "  </thead>\n",
       "  <tbody>\n",
       "    <tr>\n",
       "      <th>1</th>\n",
       "      <td>92800</td>\n",
       "      <td>Volkswagen</td>\n",
       "      <td>Golf</td>\n",
       "      <td>Gasoline</td>\n",
       "      <td>Manual</td>\n",
       "      <td>Used</td>\n",
       "      <td>6877</td>\n",
       "      <td>122.0</td>\n",
       "      <td>2011</td>\n",
       "    </tr>\n",
       "    <tr>\n",
       "      <th>11</th>\n",
       "      <td>84000</td>\n",
       "      <td>Volkswagen</td>\n",
       "      <td>Golf</td>\n",
       "      <td>Gasoline</td>\n",
       "      <td>Manual</td>\n",
       "      <td>Used</td>\n",
       "      <td>6990</td>\n",
       "      <td>105.0</td>\n",
       "      <td>2011</td>\n",
       "    </tr>\n",
       "    <tr>\n",
       "      <th>15</th>\n",
       "      <td>72000</td>\n",
       "      <td>Volkswagen</td>\n",
       "      <td>Polo</td>\n",
       "      <td>Gasoline</td>\n",
       "      <td>Manual</td>\n",
       "      <td>Used</td>\n",
       "      <td>6999</td>\n",
       "      <td>60.0</td>\n",
       "      <td>2011</td>\n",
       "    </tr>\n",
       "    <tr>\n",
       "      <th>21</th>\n",
       "      <td>81970</td>\n",
       "      <td>Volkswagen</td>\n",
       "      <td>Golf</td>\n",
       "      <td>Gasoline</td>\n",
       "      <td>Manual</td>\n",
       "      <td>Used</td>\n",
       "      <td>7850</td>\n",
       "      <td>105.0</td>\n",
       "      <td>2012</td>\n",
       "    </tr>\n",
       "    <tr>\n",
       "      <th>23</th>\n",
       "      <td>193333</td>\n",
       "      <td>Volkswagen</td>\n",
       "      <td>Cross Touran</td>\n",
       "      <td>Diesel</td>\n",
       "      <td>Manual</td>\n",
       "      <td>Used</td>\n",
       "      <td>7900</td>\n",
       "      <td>105.0</td>\n",
       "      <td>2012</td>\n",
       "    </tr>\n",
       "    <tr>\n",
       "      <th>...</th>\n",
       "      <td>...</td>\n",
       "      <td>...</td>\n",
       "      <td>...</td>\n",
       "      <td>...</td>\n",
       "      <td>...</td>\n",
       "      <td>...</td>\n",
       "      <td>...</td>\n",
       "      <td>...</td>\n",
       "      <td>...</td>\n",
       "    </tr>\n",
       "    <tr>\n",
       "      <th>45540</th>\n",
       "      <td>5800</td>\n",
       "      <td>Volkswagen</td>\n",
       "      <td>T6 Multivan</td>\n",
       "      <td>Diesel</td>\n",
       "      <td>Automatic</td>\n",
       "      <td>Demonstration</td>\n",
       "      <td>77470</td>\n",
       "      <td>204.0</td>\n",
       "      <td>2021</td>\n",
       "    </tr>\n",
       "    <tr>\n",
       "      <th>45542</th>\n",
       "      <td>50</td>\n",
       "      <td>Volkswagen</td>\n",
       "      <td>T-Cross</td>\n",
       "      <td>Gasoline</td>\n",
       "      <td>Automatic</td>\n",
       "      <td>Pre-registered</td>\n",
       "      <td>23990</td>\n",
       "      <td>110.0</td>\n",
       "      <td>2021</td>\n",
       "    </tr>\n",
       "    <tr>\n",
       "      <th>45570</th>\n",
       "      <td>50</td>\n",
       "      <td>Volkswagen</td>\n",
       "      <td>Passat Variant</td>\n",
       "      <td>Gasoline</td>\n",
       "      <td>Automatic</td>\n",
       "      <td>Pre-registered</td>\n",
       "      <td>31450</td>\n",
       "      <td>150.0</td>\n",
       "      <td>2021</td>\n",
       "    </tr>\n",
       "    <tr>\n",
       "      <th>45581</th>\n",
       "      <td>100</td>\n",
       "      <td>Volkswagen</td>\n",
       "      <td>Golf</td>\n",
       "      <td>Diesel</td>\n",
       "      <td>Automatic</td>\n",
       "      <td>Pre-registered</td>\n",
       "      <td>32490</td>\n",
       "      <td>150.0</td>\n",
       "      <td>2021</td>\n",
       "    </tr>\n",
       "    <tr>\n",
       "      <th>45585</th>\n",
       "      <td>4800</td>\n",
       "      <td>Volkswagen</td>\n",
       "      <td>T-Cross</td>\n",
       "      <td>Gasoline</td>\n",
       "      <td>Automatic</td>\n",
       "      <td>Demonstration</td>\n",
       "      <td>32880</td>\n",
       "      <td>150.0</td>\n",
       "      <td>2021</td>\n",
       "    </tr>\n",
       "  </tbody>\n",
       "</table>\n",
       "<p>6904 rows × 9 columns</p>\n",
       "</div>"
      ],
      "text/plain": [
       "       mileage        make           model      fuel       gear  \\\n",
       "1        92800  Volkswagen            Golf  Gasoline     Manual   \n",
       "11       84000  Volkswagen            Golf  Gasoline     Manual   \n",
       "15       72000  Volkswagen            Polo  Gasoline     Manual   \n",
       "21       81970  Volkswagen            Golf  Gasoline     Manual   \n",
       "23      193333  Volkswagen    Cross Touran    Diesel     Manual   \n",
       "...        ...         ...             ...       ...        ...   \n",
       "45540     5800  Volkswagen     T6 Multivan    Diesel  Automatic   \n",
       "45542       50  Volkswagen         T-Cross  Gasoline  Automatic   \n",
       "45570       50  Volkswagen  Passat Variant  Gasoline  Automatic   \n",
       "45581      100  Volkswagen            Golf    Diesel  Automatic   \n",
       "45585     4800  Volkswagen         T-Cross  Gasoline  Automatic   \n",
       "\n",
       "            offerType  price     hp  year  \n",
       "1                Used   6877  122.0  2011  \n",
       "11               Used   6990  105.0  2011  \n",
       "15               Used   6999   60.0  2011  \n",
       "21               Used   7850  105.0  2012  \n",
       "23               Used   7900  105.0  2012  \n",
       "...               ...    ...    ...   ...  \n",
       "45540   Demonstration  77470  204.0  2021  \n",
       "45542  Pre-registered  23990  110.0  2021  \n",
       "45570  Pre-registered  31450  150.0  2021  \n",
       "45581  Pre-registered  32490  150.0  2021  \n",
       "45585   Demonstration  32880  150.0  2021  \n",
       "\n",
       "[6904 rows x 9 columns]"
      ]
     },
     "execution_count": 163,
     "metadata": {},
     "output_type": "execute_result"
    }
   ],
   "source": [
    "Volkswagen_data=cars_data.query(\"make=='Volkswagen'\")\n",
    "Volkswagen_data"
   ]
  },
  {
   "cell_type": "code",
   "execution_count": 160,
   "id": "5ecb0b84",
   "metadata": {},
   "outputs": [],
   "source": [
    "from sklearn.linear_model import LinearRegression"
   ]
  },
  {
   "cell_type": "code",
   "execution_count": 167,
   "id": "2251ea51",
   "metadata": {},
   "outputs": [],
   "source": [
    "lm=LinearRegression()"
   ]
  },
  {
   "cell_type": "code",
   "execution_count": 174,
   "id": "b6cf91b9",
   "metadata": {},
   "outputs": [],
   "source": [
    "X=Volkswagen_data[[\"hp\"]]\n",
    "Y=Volkswagen_data[[\"price\"]]\n",
    "Z=Volkswagen_data[[\"hp\",\"mileage\",\"year\"]]"
   ]
  },
  {
   "cell_type": "markdown",
   "id": "3431ec6c",
   "metadata": {},
   "source": [
    "### X will be used as Independent variable for Linear Regression \n",
    "### Z will be used as Independent variable for Multiple Linear Regression"
   ]
  },
  {
   "cell_type": "code",
   "execution_count": 175,
   "id": "9f6814da",
   "metadata": {},
   "outputs": [
    {
     "data": {
      "text/plain": [
       "0.46961281900054797"
      ]
     },
     "execution_count": 175,
     "metadata": {},
     "output_type": "execute_result"
    }
   ],
   "source": [
    "lm.fit(X,Y)\n",
    "lm.score(X,Y)"
   ]
  },
  {
   "cell_type": "code",
   "execution_count": 177,
   "id": "220d3938",
   "metadata": {},
   "outputs": [],
   "source": [
    "lm2=LinearRegression()\n"
   ]
  },
  {
   "cell_type": "code",
   "execution_count": 179,
   "id": "a898597c",
   "metadata": {},
   "outputs": [
    {
     "data": {
      "text/plain": [
       "0.7496931246655453"
      ]
     },
     "execution_count": 179,
     "metadata": {},
     "output_type": "execute_result"
    }
   ],
   "source": [
    "lm2.fit(Z,Y)\n",
    "lm2.score(Z,Y)"
   ]
  },
  {
   "cell_type": "code",
   "execution_count": 181,
   "id": "e891e645",
   "metadata": {},
   "outputs": [
    {
     "data": {
      "image/png": "[encoded data removed]",
      "text/plain": [
       "<Figure size 936x432 with 1 Axes>"
      ]
     },
     "metadata": {
      "needs_background": "light"
     },
     "output_type": "display_data"
    }
   ],
   "source": [
    "sns.regplot(x=\"price\", y=\"hp\" , data=Volkswagen_data , color=\"green\", marker=\"+\")\n",
    "plt.gcf().set_size_inches(13, 6)"
   ]
  },
  {
   "cell_type": "markdown",
   "id": "a3c9b80a",
   "metadata": {},
   "source": [
    "### Pipeline"
   ]
  },
  {
   "cell_type": "code",
   "execution_count": 187,
   "id": "821b4d45",
   "metadata": {},
   "outputs": [],
   "source": [
    "from sklearn.preprocessing import PolynomialFeatures\n",
    "from sklearn.preprocessing import StandardScaler\n",
    "from sklearn.pipeline import Pipeline"
   ]
  },
  {
   "cell_type": "code",
   "execution_count": 188,
   "id": "fb9a839b",
   "metadata": {},
   "outputs": [],
   "source": [
    "Input=[(\"scale\",StandardScaler()),(\"polynomial\",PolynomialFeatures(include_bias=False)),(\"model\",LinearRegression())]"
   ]
  },
  {
   "cell_type": "code",
   "execution_count": 192,
   "id": "6510037d",
   "metadata": {},
   "outputs": [],
   "source": [
    "pipe=Pipeline(Input)"
   ]
  },
  {
   "cell_type": "code",
   "execution_count": 193,
   "id": "6141114d",
   "metadata": {},
   "outputs": [
    {
     "data": {
      "text/plain": [
       "Pipeline(steps=[('scale', StandardScaler()),\n",
       "                ('polynomial', PolynomialFeatures(include_bias=False)),\n",
       "                ('model', LinearRegression())])"
      ]
     },
     "execution_count": 193,
     "metadata": {},
     "output_type": "execute_result"
    }
   ],
   "source": [
    "pipe.fit(X,Y)"
   ]
  },
  {
   "cell_type": "code",
   "execution_count": 194,
   "id": "2f54f67c",
   "metadata": {},
   "outputs": [
    {
     "data": {
      "text/plain": [
       "0.4708041113963046"
      ]
     },
     "execution_count": 194,
     "metadata": {},
     "output_type": "execute_result"
    }
   ],
   "source": [
    "pipe.score(X,Y)"
   ]
  },
  {
   "cell_type": "code",
   "execution_count": 195,
   "id": "899b984f",
   "metadata": {},
   "outputs": [
    {
     "data": {
      "text/plain": [
       "Pipeline(steps=[('scale', StandardScaler()),\n",
       "                ('polynomial', PolynomialFeatures(include_bias=False)),\n",
       "                ('model', LinearRegression())])"
      ]
     },
     "execution_count": 195,
     "metadata": {},
     "output_type": "execute_result"
    }
   ],
   "source": [
    "pipe.fit(Z,Y)"
   ]
  },
  {
   "cell_type": "code",
   "execution_count": 196,
   "id": "a04eccb5",
   "metadata": {},
   "outputs": [
    {
     "data": {
      "text/plain": [
       "0.8156006941667285"
      ]
     },
     "execution_count": 196,
     "metadata": {},
     "output_type": "execute_result"
    }
   ],
   "source": [
    "pipe.score(Z,Y)"
   ]
  },
  {
   "cell_type": "markdown",
   "id": "629dfaa7",
   "metadata": {},
   "source": [
    "### Model Evaluation and Refinement"
   ]
  },
  {
   "cell_type": "code",
   "execution_count": 210,
   "id": "35721a0d",
   "metadata": {},
   "outputs": [],
   "source": [
    "from sklearn.model_selection import cross_val_score\n",
    "from sklearn.model_selection import train_test_split"
   ]
  },
  {
   "cell_type": "code",
   "execution_count": 211,
   "id": "81f47270",
   "metadata": {},
   "outputs": [
    {
     "name": "stdout",
     "output_type": "stream",
     "text": [
      "number of test samples : 1036\n",
      "number of training samples: 5868\n"
     ]
    }
   ],
   "source": [
    "z_train, z_test, y_train, y_test = train_test_split(Z, Y, test_size=0.15, random_state=1)\n",
    "\n",
    "\n",
    "print(\"number of test samples :\", z_test.shape[0])\n",
    "print(\"number of training samples:\",z_train.shape[0])"
   ]
  },
  {
   "cell_type": "code",
   "execution_count": 212,
   "id": "8786d371",
   "metadata": {},
   "outputs": [],
   "source": [
    "from sklearn.linear_model import Ridge"
   ]
  },
  {
   "cell_type": "code",
   "execution_count": 213,
   "id": "d6954e63",
   "metadata": {},
   "outputs": [],
   "source": [
    "pr=PolynomialFeatures(degree=2)\n",
    "z_train_pr=pr.fit_transform(z_train[[\"hp\",\"mileage\",\"year\"]])\n",
    "z_test_pr=pr.fit_transform(z_test[[\"hp\",\"mileage\",\"year\"]] )"
   ]
  },
  {
   "cell_type": "code",
   "execution_count": 214,
   "id": "652cd8c1",
   "metadata": {},
   "outputs": [
    {
     "name": "stderr",
     "output_type": "stream",
     "text": [
      "C:\\Users\\ERCAN\\anaconda3\\lib\\site-packages\\sklearn\\linear_model\\_ridge.py:147: LinAlgWarning: Ill-conditioned matrix (rcond=5.82104e-26): result may not be accurate.\n",
      "  return linalg.solve(A, Xy, sym_pos=True,\n"
     ]
    },
    {
     "data": {
      "text/plain": [
       "Ridge(alpha=0.1)"
      ]
     },
     "execution_count": 214,
     "metadata": {},
     "output_type": "execute_result"
    }
   ],
   "source": [
    "RidgeModel=Ridge(alpha=0.1)\n",
    "\n",
    "RidgeModel.fit(z_train_pr, y_train)"
   ]
  },
  {
   "cell_type": "code",
   "execution_count": 215,
   "id": "38ccbe6a",
   "metadata": {},
   "outputs": [
    {
     "data": {
      "text/plain": [
       "0.8145140320867016"
      ]
     },
     "execution_count": 215,
     "metadata": {},
     "output_type": "execute_result"
    }
   ],
   "source": [
    "RidgeModel.score(z_train_pr, y_train)"
   ]
  },
  {
   "cell_type": "code",
   "execution_count": 224,
   "id": "cdc6f0c3",
   "metadata": {},
   "outputs": [],
   "source": [
    "z_train_pr=pr.fit_transform(z_train[[\"hp\",\"mileage\",\"year\"]])"
   ]
  },
  {
   "cell_type": "code",
   "execution_count": 225,
   "id": "f11e4aa0",
   "metadata": {},
   "outputs": [],
   "source": [
    "z_polly=pr.fit_transform(z_train[[\"hp\",\"mileage\",\"year\"]])"
   ]
  },
  {
   "cell_type": "code",
   "execution_count": 226,
   "id": "93dcad1a",
   "metadata": {},
   "outputs": [
    {
     "name": "stderr",
     "output_type": "stream",
     "text": [
      "C:\\Users\\ERCAN\\anaconda3\\lib\\site-packages\\sklearn\\linear_model\\_ridge.py:147: LinAlgWarning: Ill-conditioned matrix (rcond=5.82104e-26): result may not be accurate.\n",
      "  return linalg.solve(A, Xy, sym_pos=True,\n"
     ]
    },
    {
     "data": {
      "text/plain": [
       "0.8145140320867016"
      ]
     },
     "execution_count": 226,
     "metadata": {},
     "output_type": "execute_result"
    }
   ],
   "source": [
    "RidgeModel=Ridge(alpha=0.1)\n",
    "\n",
    "RidgeModel.fit(z_train_pr, y_train)\n",
    "\n",
    "RidgeModel.score(z_train_pr, y_train)"
   ]
  },
  {
   "cell_type": "code",
   "execution_count": 227,
   "id": "7df40189",
   "metadata": {},
   "outputs": [],
   "source": [
    "z_test_pr=pr.fit_transform(z_test[[\"hp\",\"mileage\",\"year\"]])"
   ]
  },
  {
   "cell_type": "code",
   "execution_count": 228,
   "id": "40766c9b",
   "metadata": {},
   "outputs": [],
   "source": [
    "z_polly=pr.fit_transform(z_test[[\"hp\",\"mileage\",\"year\"]])"
   ]
  },
  {
   "cell_type": "code",
   "execution_count": 229,
   "id": "1a628d6c",
   "metadata": {},
   "outputs": [
    {
     "name": "stderr",
     "output_type": "stream",
     "text": [
      "C:\\Users\\ERCAN\\anaconda3\\lib\\site-packages\\sklearn\\linear_model\\_ridge.py:147: LinAlgWarning: Ill-conditioned matrix (rcond=2.73477e-25): result may not be accurate.\n",
      "  return linalg.solve(A, Xy, sym_pos=True,\n"
     ]
    },
    {
     "data": {
      "text/plain": [
       "0.8150730993831938"
      ]
     },
     "execution_count": 229,
     "metadata": {},
     "output_type": "execute_result"
    }
   ],
   "source": [
    "\n",
    "RidgeModel=Ridge(alpha=0.1)\n",
    "\n",
    "RidgeModel.fit(z_test_pr, y_test)\n",
    "\n",
    "RidgeModel.score(z_test_pr, y_test)"
   ]
  },
  {
   "cell_type": "code",
   "execution_count": null,
   "id": "4120ac7a",
   "metadata": {},
   "outputs": [],
   "source": []
  }
 ],
 "metadata": {
  "kernelspec": {
   "display_name": "Python 3 (ipykernel)",
   "language": "python",
   "name": "python3"
  },
  "language_info": {
   "codemirror_mode": {
    "name": "ipython",
    "version": 3
   },
   "file_extension": ".py",
   "mimetype": "text/x-python",
   "name": "python",
   "nbconvert_exporter": "python",
   "pygments_lexer": "ipython3",
   "version": "3.9.7"
  }
 },
 "nbformat": 4,
 "nbformat_minor": 5
}
